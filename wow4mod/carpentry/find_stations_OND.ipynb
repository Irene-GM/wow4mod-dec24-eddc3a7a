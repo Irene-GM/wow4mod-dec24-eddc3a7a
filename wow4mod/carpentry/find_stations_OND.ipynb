{
 "cells": [
  {
   "cell_type": "markdown",
   "id": "056f03e1-8582-4d10-a7cb-29ed5ddd9705",
   "metadata": {},
   "source": [
    "### Keeping WOW stations Oct-Nov-Dec 2020\n",
    "\n",
    "Following a conversation with AEMET, we keep only the list of stations in the last trimestre of 2020. The reason for this is to have less \"ghost\" stations for the test with HARP when we add the European WOW 2023-2024. The program is simple, we iterate over the file structure containing the `L0` files created in the program `data_carpentry.ipynb` and we annotate tuples of (SiteId, Latitude, Longitude) using a Python set. Then we cross the set with the pre-computed list of stations obtained in 2022, so that we keep the order."
   ]
  },
  {
   "cell_type": "code",
   "execution_count": 2,
   "id": "62a41d9a-7518-4aad-a813-1c08b78a11c8",
   "metadata": {},
   "outputs": [],
   "source": [
    "import datetime\n",
    "import pandas as pd"
   ]
  },
  {
   "cell_type": "code",
   "execution_count": 41,
   "id": "4a8e39c3-57a0-4a17-9f92-53c8c6a2d025",
   "metadata": {},
   "outputs": [
    {
     "name": "stderr",
     "output_type": "stream",
     "text": [
      "/tmp/ipykernel_36932/4014830643.py:17: UserWarning: Could not infer format, so each element will be parsed individually, falling back to `dateutil`. To ensure parsing is consistent and as-expected, please specify a format.\n",
      "  df = pd.read_csv(path_cur_in, sep=\",\", parse_dates=[5])\n",
      "/tmp/ipykernel_36932/4014830643.py:17: UserWarning: Could not infer format, so each element will be parsed individually, falling back to `dateutil`. To ensure parsing is consistent and as-expected, please specify a format.\n",
      "  df = pd.read_csv(path_cur_in, sep=\",\", parse_dates=[5])\n",
      "/tmp/ipykernel_36932/4014830643.py:17: UserWarning: Could not infer format, so each element will be parsed individually, falling back to `dateutil`. To ensure parsing is consistent and as-expected, please specify a format.\n",
      "  df = pd.read_csv(path_cur_in, sep=\",\", parse_dates=[5])\n",
      "/tmp/ipykernel_36932/4014830643.py:17: UserWarning: Could not infer format, so each element will be parsed individually, falling back to `dateutil`. To ensure parsing is consistent and as-expected, please specify a format.\n",
      "  df = pd.read_csv(path_cur_in, sep=\",\", parse_dates=[5])\n",
      "/tmp/ipykernel_36932/4014830643.py:17: UserWarning: Could not infer format, so each element will be parsed individually, falling back to `dateutil`. To ensure parsing is consistent and as-expected, please specify a format.\n",
      "  df = pd.read_csv(path_cur_in, sep=\",\", parse_dates=[5])\n"
     ]
    },
    {
     "name": "stdout",
     "output_type": "stream",
     "text": [
      "Total number of stations seen in OND-2020:  3754\n",
      "Total number of stations seen in year:  5199\n",
      "Hourly files not found:  18\n",
      "\n",
      "\n",
      "Number of stations in the pre-computed file:  (3903, 12)\n",
      "Number of stations after the Oct-Nov-Dec selection:  (3222, 12)\n",
      "(3222, 12)\n",
      "\n",
      "\n",
      "\n",
      "          SID      lat      lon  elev name\n",
      "0  4200000001  54.1866  -2.9194    37  ---\n",
      "1  4200000002  51.1036   3.6398     5  ---\n",
      "2  4200000003  50.8769   4.7110    38  ---\n",
      "3  4200000007  51.5072  -0.1275    14  ---\n",
      "4  4200000009  60.2276  16.7794    39  ---\n"
     ]
    }
   ],
   "source": [
    "path_in = r\"/home/jovyan/work/private/data-common/KNMI/eumetnet-wow-2020/proc/L0/WOW-Eumetnet-L0-{0}.csv\"\n",
    "path_all_stations = r\"/home/jovyan/work/private/sources/projects/wow4mod/reference_tables/WOW_EUMETNET_CWS_Locations_2020_Within_Elevation.csv\"\n",
    "path_ou = r\"/home/jovyan/work/private/sources/projects/wow4mod/reference_tables/WOW_EUMETNET_CWS_Locations_Oct-Nov-Dec_2020_Within_Elevation.csv\"\n",
    "\n",
    "\n",
    "sd = datetime.datetime(2020, 10, 1)\n",
    "ed = datetime.datetime(2021, 1, 1)\n",
    "date_range = pd.date_range(sd, ed, freq=\"h\")\n",
    "\n",
    "df_stations = pd.read_csv(path_all_stations, sep=\";\")\n",
    "\n",
    "s = set()\n",
    "not_found = 0\n",
    "for date in date_range:\n",
    "    path_cur_in = path_in.format(date.strftime(\"%Y-%m-%d_%H\"))\n",
    "    try:\n",
    "        df = pd.read_csv(path_cur_in, sep=\",\", parse_dates=[5])\n",
    "        for item in df[[\"Site Id\"]].values.tolist():\n",
    "            s.add(tuple(item))\n",
    "    except FileNotFoundError:\n",
    "        not_found += 1\n",
    "\n",
    "stations_in_ond2020 = 3754 #precomputed\n",
    "stations_in_2020 = 5199 #precomputed\n",
    "print(\"Total number of stations seen in OND-2020: \", stations_in_ond2020)\n",
    "print(\"Total number of stations seen in year: \", stations_in_2020)\n",
    "print(\"Hourly files not found: \", not_found)\n",
    "print(\"\\n\")\n",
    "\n",
    "# Now we select the rows in the pre-computed file from 2022\n",
    "print(\"Number of stations in the pre-computed file: \", df_stations.shape)\n",
    "l = [item[0] for item in s]\n",
    "df_sel = df_stations[df_stations['Site Id'].isin(l)]\n",
    "print(\"Number of stations after the Oct-Nov-Dec selection: \", df_sel.shape)\n",
    "print(df_sel.shape)\n",
    "print(\"\\n\\n\")\n",
    "\n",
    "# We keep only some columns and we do column sanity\n",
    "cols_to_keep = [\"HARP_SID_int\", \"latitude\", \"longitude\", \"elevation\"]\n",
    "df_keep = df_sel[df_sel.columns.intersection(cols_to_keep)][cols_to_keep]\n",
    "df_keep[\"elevation\"] = df_keep[\"elevation\"].astype('Int64')\n",
    "df_keep[\"name\"] = \"---\"\n",
    "df_keep = df_keep.rename(columns={\"HARP_SID_int\": \"SID\", \"latitude\": \"lat\", \"longitude\": \"lon\", \"elevation\":\"elev\"})\n",
    "print(df_keep.head())\n",
    "\n",
    "df_keep.to_csv(path_ou, sep=\";\", index=False)"
   ]
  },
  {
   "cell_type": "code",
   "execution_count": null,
   "id": "a85f85d5-4335-482d-beac-38123c997c8b",
   "metadata": {},
   "outputs": [],
   "source": []
  }
 ],
 "metadata": {
  "kernelspec": {
   "display_name": "Python 3 (ipykernel)",
   "language": "python",
   "name": "python3"
  },
  "language_info": {
   "codemirror_mode": {
    "name": "ipython",
    "version": 3
   },
   "file_extension": ".py",
   "mimetype": "text/x-python",
   "name": "python",
   "nbconvert_exporter": "python",
   "pygments_lexer": "ipython3",
   "version": "3.11.9"
  }
 },
 "nbformat": 4,
 "nbformat_minor": 5
}
