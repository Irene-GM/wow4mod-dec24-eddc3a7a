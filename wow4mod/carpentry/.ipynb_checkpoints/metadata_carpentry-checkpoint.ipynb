{
 "cells": [
  {
   "cell_type": "code",
   "execution_count": 33,
   "id": "41767742-65ab-4c0a-b035-fc119a2e5bc8",
   "metadata": {},
   "outputs": [
    {
     "name": "stdout",
     "output_type": "stream",
     "text": [
      "   rowid                               Site Id  longitude  latitude  IsWithin  \\\n",
      "0      1                                   NaN    -2.9194   54.1866      True   \n",
      "1      2  0029ead6-4cc1-ea11-bf21-0003ff5982ee     3.6398   51.1036      True   \n",
      "2      3  0035f568-ee98-e911-80e7-0003ff59889d     4.7110   50.8769      True   \n",
      "3      7  00a30701-f954-e911-b048-0003ff59ad54    -0.1275   51.5072      True   \n",
      "4      9  00c55df9-5069-ea11-99e5-0003ff59b16f    16.7794   60.2276      True   \n",
      "\n",
      "  CountryId                 geometry  elevation      UTC_TimeZone  \\\n",
      "0        UK  POINT (-2.9194 54.1866)       37.0     Europe/London   \n",
      "1        BE   POINT (3.6398 51.1036)        5.0   Europe/Brussels   \n",
      "2        BE    POINT (4.711 50.8769)       38.0   Europe/Brussels   \n",
      "3        UK  POINT (-0.1275 51.5072)       14.0     Europe/London   \n",
      "4        SE  POINT (16.7794 60.2276)       39.0  Europe/Stockholm   \n",
      "\n",
      "  UTC_OffsetHours  HARP_SID_int  \n",
      "0          +00:00    4200000001  \n",
      "1          +01:00    4200000002  \n",
      "2          +01:00    4200000003  \n",
      "3          +00:00    4200000007  \n",
      "4          +01:00    4200000009  \n"
     ]
    }
   ],
   "source": [
    "import pytz\n",
    "import pandas as pd\n",
    "from datetime import datetime\n",
    "from timezonefinder import TimezoneFinder\n",
    "\n",
    "def find_UTC_timezone_for_coordinates(longitude, latitude):\n",
    "    \n",
    "    # Get the time zone based on the coordinates\n",
    "    timezone_str = tf.timezone_at(lng=longitude, lat=latitude)\n",
    "\n",
    "    # Convert the timezone string to a timezone object using pytz\n",
    "    timezone = pytz.timezone(timezone_str)\n",
    "\n",
    "    # Convert the timezone string to a timezone object using pytz\n",
    "    time_in_timezone = datetime.now(timezone)\n",
    "    \n",
    "    # Get the UTC offset in seconds\n",
    "    utc_offset_seconds = time_in_timezone.utcoffset().total_seconds()\n",
    "    \n",
    "    # Convert the offset to hours\n",
    "    utc_offset_hours = utc_offset_seconds / 3600\n",
    "    \n",
    "    return [timezone, utc_offset_hours]\n",
    "\n",
    "\n",
    "def turn_offset_into_string(value):\n",
    "    zfilling = str(int(value)).zfill(2)\n",
    "    if value>=0:\n",
    "        return \"+{0}:00\".format(zfilling)\n",
    "    else:\n",
    "        return \"-{0}:00\".format(zfilling)\n",
    "    \n",
    "\n",
    "################\n",
    "# Main program #\n",
    "################\n",
    "\n",
    "# Requires: pip install timezonefinder pytz\n",
    "\n",
    "# First we find the UTC time zone and offset associated \n",
    "path_in_csv = r\"/home/jovyan/work/private/sources/projects/wow4mod/reference_tables/WOW_EUMETNET_CWS_Locations_2020_Within_Elevation.csv\"\n",
    "path_ou_csv = path_in_csv\n",
    "df = pd.read_csv(path_in_csv, sep=\";\")\n",
    "\n",
    "tf = TimezoneFinder()\n",
    "df[['UTC_TimeZone', 'UTC_OffsetHours']] = [item for item in df.apply(lambda x: find_UTC_timezone_for_coordinates(x[\"longitude\"], x[\"latitude\"]), axis=1)]\n",
    "df['UTC_OffsetHours'] = df.apply(lambda x: turn_offset_into_string(x[\"UTC_OffsetHours\"]), axis=1)\n",
    "\n",
    "# Now, we find a name for the stations that is integer-based\n",
    "df[\"HARP_SID_int\"] = 41*10**8 + df[\"rowid\"] + 10**8\n",
    "print(df.head())\n",
    "\n",
    "df.to_csv(path_ou_csv, sep=\";\")"
   ]
  },
  {
   "cell_type": "code",
   "execution_count": null,
   "id": "87ec8ea5-e3d8-4b42-aa0b-dfa638f11495",
   "metadata": {},
   "outputs": [],
   "source": []
  }
 ],
 "metadata": {
  "kernelspec": {
   "display_name": "Python 3 (ipykernel)",
   "language": "python",
   "name": "python3"
  },
  "language_info": {
   "codemirror_mode": {
    "name": "ipython",
    "version": 3
   },
   "file_extension": ".py",
   "mimetype": "text/x-python",
   "name": "python",
   "nbconvert_exporter": "python",
   "pygments_lexer": "ipython3",
   "version": "3.11.9"
  }
 },
 "nbformat": 4,
 "nbformat_minor": 5
}
